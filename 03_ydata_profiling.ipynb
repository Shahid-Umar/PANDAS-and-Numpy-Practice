{
 "cells": [
  {
   "cell_type": "markdown",
   "metadata": {},
   "source": [
    "# Automated EDA Using `ydata-profiling`"
   ]
  },
  {
   "cell_type": "code",
   "execution_count": 7,
   "metadata": {},
   "outputs": [],
   "source": [
    "#pip install ydata_profiling"
   ]
  },
  {
   "cell_type": "code",
   "execution_count": 8,
   "metadata": {},
   "outputs": [],
   "source": [
    "import pandas as pd\n",
    "import seaborn as sns\n",
    "import ydata_profiling as yp"
   ]
  },
  {
   "cell_type": "code",
   "execution_count": 9,
   "metadata": {},
   "outputs": [],
   "source": [
    "# import data from seaborn\n",
    "df = sns.load_dataset('titanic')"
   ]
  },
  {
   "cell_type": "code",
   "execution_count": 10,
   "metadata": {},
   "outputs": [
    {
     "name": "stderr",
     "output_type": "stream",
     "text": [
      "Summarize dataset:   0%|          | 0/5 [00:00<?, ?it/s]"
     ]
    },
    {
     "name": "stderr",
     "output_type": "stream",
     "text": [
      "Summarize dataset:  77%|███████▋  | 17/22 [00:00<00:00,  9.43it/s, Calculate auto correlation]   c:\\Users\\DELL\\.conda\\envs\\EDA\\Lib\\site-packages\\ydata_profiling\\model\\correlations.py:66: UserWarning: There was an attempt to calculate the auto correlation, but this failed.\n",
      "To hide this warning, disable the calculation\n",
      "(using `df.profile_report(correlations={\"auto\": {\"calculate\": False}})`\n",
      "If this is problematic for your use case, please report this as an issue:\n",
      "https://github.com/ydataai/ydata-profiling/issues\n",
      "(include the error message: 'Function <code object pandas_auto_compute at 0x000001FFF21D8BE0, file \"c:\\Users\\DELL\\.conda\\envs\\EDA\\Lib\\site-packages\\ydata_profiling\\model\\pandas\\correlations_pandas.py\", line 164>')\n",
      "  warnings.warn(\n",
      "Summarize dataset:  88%|████████▊ | 36/41 [00:03<00:00,  5.91it/s, Missing diagram heatmap]   c:\\Users\\DELL\\.conda\\envs\\EDA\\Lib\\site-packages\\seaborn\\matrix.py:260: FutureWarning: Format strings passed to MaskedConstant are ignored, but in future may error or produce different behavior\n",
      "  annotation = (\"{:\" + self.fmt + \"}\").format(val)\n",
      "c:\\Users\\DELL\\.conda\\envs\\EDA\\Lib\\site-packages\\ydata_profiling\\model\\missing.py:78: UserWarning: There was an attempt to generate the Heatmap missing values diagrams, but this failed.\n",
      "To hide this warning, disable the calculation\n",
      "(using `df.profile_report(missing_diagrams={\"Heatmap\": False}`)\n",
      "If this is problematic for your use case, please report this as an issue:\n",
      "https://github.com/ydataai/ydata-profiling/issues\n",
      "(include the error message: 'could not convert string to float: '--'')\n",
      "  warnings.warn(\n",
      "Summarize dataset: 100%|██████████| 41/41 [00:03<00:00, 11.01it/s, Completed]               \n",
      "Generate report structure: 100%|██████████| 1/1 [00:05<00:00,  5.30s/it]\n",
      "Render HTML: 100%|██████████| 1/1 [00:01<00:00,  1.53s/it]\n",
      "Export report to file: 100%|██████████| 1/1 [00:00<?, ?it/s]\n"
     ]
    }
   ],
   "source": [
    "# Prepare ydata profile report\n",
    "profile = yp.ProfileReport(df)\n",
    "profile.to_file(output_file='./outputs/03_ydata_titanic.html')"
   ]
  },
  {
   "cell_type": "markdown",
   "metadata": {},
   "source": [
    "# Do it on our Pak Population Dataset"
   ]
  },
  {
   "cell_type": "code",
   "execution_count": 11,
   "metadata": {},
   "outputs": [],
   "source": [
    "df_pop = pd.read_csv('../01_datasets/population_of_pakistan.csv')"
   ]
  },
  {
   "cell_type": "code",
   "execution_count": 12,
   "metadata": {},
   "outputs": [
    {
     "name": "stderr",
     "output_type": "stream",
     "text": [
      "Summarize dataset:   0%|          | 0/5 [00:00<?, ?it/s]"
     ]
    },
    {
     "name": "stderr",
     "output_type": "stream",
     "text": [
      "Summarize dataset:  82%|████████▏ | 23/28 [00:00<00:00, 23.97it/s, Calculate auto correlation]                  c:\\Users\\DELL\\.conda\\envs\\EDA\\Lib\\site-packages\\ydata_profiling\\model\\correlations.py:66: UserWarning: There was an attempt to calculate the auto correlation, but this failed.\n",
      "To hide this warning, disable the calculation\n",
      "(using `df.profile_report(correlations={\"auto\": {\"calculate\": False}})`\n",
      "If this is problematic for your use case, please report this as an issue:\n",
      "https://github.com/ydataai/ydata-profiling/issues\n",
      "(include the error message: 'could not convert string to float: 'BAHAWALPUR DIVISION'')\n",
      "  warnings.warn(\n",
      "Summarize dataset: 100%|██████████| 319/319 [00:50<00:00,  6.33it/s, Completed]                                                     \n",
      "Generate report structure: 100%|██████████| 1/1 [00:10<00:00, 10.85s/it]\n",
      "Render HTML: 100%|██████████| 1/1 [00:08<00:00,  8.66s/it]\n",
      "Export report to file: 100%|██████████| 1/1 [00:00<00:00,  8.45it/s]\n"
     ]
    }
   ],
   "source": [
    "# Prepare ydata profile report for Pakistan Population\n",
    "profile = yp.ProfileReport(df_pop)\n",
    "profile.to_file(output_file='./outputs/03b_ydata_pak_pop.html')"
   ]
  }
 ],
 "metadata": {
  "kernelspec": {
   "display_name": "Python 3",
   "language": "python",
   "name": "python3"
  },
  "language_info": {
   "codemirror_mode": {
    "name": "ipython",
    "version": 3
   },
   "file_extension": ".py",
   "mimetype": "text/x-python",
   "name": "python",
   "nbconvert_exporter": "python",
   "pygments_lexer": "ipython3",
   "version": "3.11.7"
  }
 },
 "nbformat": 4,
 "nbformat_minor": 2
}
